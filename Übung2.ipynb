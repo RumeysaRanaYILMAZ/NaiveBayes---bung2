{
 "cells": [
  {
   "cell_type": "code",
   "execution_count": 66,
   "metadata": {},
   "outputs": [],
   "source": [
    "import numpy as np\n"
   ]
  },
  {
   "cell_type": "code",
   "execution_count": 67,
   "metadata": {},
   "outputs": [],
   "source": [
    "\n",
    "np.random.seed(42)\n",
    "\n",
    "fString = open(\"diagnosis.data\",\"r\")\n",
    "fFloat  = open(\"diagnosis.csv\",\"w\")\n",
    "for line in fString:\n",
    "    line = line.replace(\",\", \".\")\n",
    "    line = line.replace(\"\\t\", \",\")\n",
    "    line = line.replace(\"yes\", \"1\")\n",
    "    line = line.replace(\"no\", \"0\")\n",
    "    line = line.replace(\"\\r\\n\",\"\\n\")\n",
    "    fFloat.write(line)\n",
    "fString.close()\n",
    "fFloat.close()\n",
    "\n",
    "fFloat  = open(\"diagnosis.csv\",\"r\")\n",
    "dataset = np.loadtxt(fFloat, delimiter=\",\")\n",
    "fFloat.close()"
   ]
  },
  {
   "cell_type": "code",
   "execution_count": 68,
   "metadata": {},
   "outputs": [],
   "source": [
    "X = dataset[:,1:6]\n",
    "Y = dataset[:,6]\n",
    "allData     = np.arange(0,X.shape[0])\n",
    "iTesting    = np.random.choice(X.shape[0],int(X.shape[0]*0.2),replace=False)\n",
    "iTraining   = np.delete(allData,iTesting)\n",
    "dataRecords = len(iTraining)\n",
    "XTrain = X[iTraining,:]\n",
    "YTrain = Y[iTraining]"
   ]
  },
  {
   "cell_type": "code",
   "execution_count": 69,
   "metadata": {},
   "outputs": [],
   "source": [
    "PIX = np.zeros( (2,XTrain.shape[1],2) )\n",
    "PI  = np.zeros(2)\n",
    "for k in range(X.shape[1]):\n",
    "    PIX[0,k,0] = np.sum(np.logical_and(XTrain[:,k],YTrain))\n",
    "    PIX[0,k,1] = np.sum(np.logical_and(np.logical_not(XTrain[:,k]),YTrain))  \n",
    "    PIX[1,k,0] = np.sum(np.logical_and(XTrain[:,k],np.logical_not(YTrain)))\n",
    "    PIX[1,k,1] = np.sum(np.logical_not(np.logical_or(XTrain[:,k],YTrain)))\n",
    "PI[0] = np.sum(YTrain)\n",
    "PI[1] = dataRecords - PI[0]\n",
    "PIX = (PIX + 1/2) / (dataRecords+1)\n",
    "PI  = PI  / dataRecords"
   ]
  },
  {
   "cell_type": "markdown",
   "metadata": {},
   "source": [
    "# Changed Function predictNaiveBayesNomial( Vector )"
   ]
  },
  {
   "cell_type": "markdown",
   "metadata": {},
   "source": [
    "Übung2 first question"
   ]
  },
  {
   "cell_type": "code",
   "execution_count": 70,
   "metadata": {},
   "outputs": [],
   "source": [
    "def predictNaiveBayesNominal(XTest):\n",
    "    prediction=np.zeros(XTest.shape[0])\n",
    "    \n",
    "    for i in range(XTest.shape[0]):\n",
    "        x=XTest[i,:].astype(int)\n",
    "        P = np.zeros_like(PI)\n",
    "        allofthem = np.arange(XTrain.shape[1])\n",
    "        for j in range(len(PI)):\n",
    "             P[j] = np.prod(PIX[j,allofthem,x])*PI[j]\n",
    "        denominator = np.sum(P)\n",
    "        P = P/denominator       \n",
    "        prediction[i] = np.argmax(P)\n",
    "        \n",
    "    return prediction"
   ]
  },
  {
   "cell_type": "code",
   "execution_count": 71,
   "metadata": {},
   "outputs": [
    {
     "data": {
      "text/plain": [
       "24"
      ]
     },
     "execution_count": 71,
     "metadata": {},
     "output_type": "execute_result"
    }
   ],
   "source": [
    "XTest = X[iTesting,:]\n",
    "YTest = Y[iTesting]\n",
    "correct   = np.zeros(2)\n",
    "incorrect = np.zeros(2)\n",
    "YTest.shape[0]\n"
   ]
  },
  {
   "cell_type": "code",
   "execution_count": 72,
   "metadata": {},
   "outputs": [],
   "source": [
    "prediction = predictNaiveBayesNominal(XTest)"
   ]
  },
  {
   "cell_type": "code",
   "execution_count": 73,
   "metadata": {},
   "outputs": [
    {
     "name": "stdout",
     "output_type": "stream",
     "text": [
      "Von 24 Testfaellen wurden 19 richtig und 5 falsch klassifiziert\n"
     ]
    }
   ],
   "source": [
    "for i in range(prediction.shape[0]):\n",
    "    klasse = prediction[i].astype(int)    \n",
    "    if klasse == YTest[i]:\n",
    "        correct[klasse] = correct[klasse] +1\n",
    "    else:\n",
    "        incorrect[klasse] = incorrect[klasse] +1\n",
    "         \n",
    "print(\"Von %d Testfaellen wurden %d richtig und %d falsch klassifiziert\"\n",
    "       % (XTest.shape[0],np.sum(correct),np.sum(incorrect) ))"
   ]
  },
  {
   "cell_type": "markdown",
   "metadata": {},
   "source": [
    "# Naive Bayes Classification with Sklearn"
   ]
  },
  {
   "cell_type": "markdown",
   "metadata": {},
   "source": [
    "Übung2 2.question\n"
   ]
  },
  {
   "cell_type": "code",
   "execution_count": 74,
   "metadata": {},
   "outputs": [],
   "source": [
    "from sklearn.naive_bayes import BernoulliNB"
   ]
  },
  {
   "cell_type": "code",
   "execution_count": 75,
   "metadata": {},
   "outputs": [],
   "source": [
    "BNB=BernoulliNB()"
   ]
  },
  {
   "cell_type": "code",
   "execution_count": 76,
   "metadata": {},
   "outputs": [
    {
     "data": {
      "text/plain": [
       "BernoulliNB(alpha=1.0, binarize=0.0, class_prior=None, fit_prior=True)"
      ]
     },
     "execution_count": 76,
     "metadata": {},
     "output_type": "execute_result"
    }
   ],
   "source": [
    "BNB.fit(XTrain,YTrain)"
   ]
  },
  {
   "cell_type": "code",
   "execution_count": 77,
   "metadata": {},
   "outputs": [],
   "source": [
    "prediction_Y=BNB.predict(XTest)"
   ]
  },
  {
   "cell_type": "markdown",
   "metadata": {},
   "source": [
    "Confusion Matrix for Bernoylli Naive Bayes"
   ]
  },
  {
   "cell_type": "code",
   "execution_count": 78,
   "metadata": {},
   "outputs": [],
   "source": [
    "from sklearn.metrics import confusion_matrix"
   ]
  },
  {
   "cell_type": "code",
   "execution_count": 79,
   "metadata": {},
   "outputs": [],
   "source": [
    "cm=confusion_matrix(YTest,prediction_Y)"
   ]
  },
  {
   "cell_type": "code",
   "execution_count": 80,
   "metadata": {},
   "outputs": [
    {
     "name": "stdout",
     "output_type": "stream",
     "text": [
      "Von 24 Testfaellen wurden 24 richtig und 0 falsch klassifiziert\n"
     ]
    }
   ],
   "source": [
    "print(\"Von %d Testfaellen wurden %d richtig und %d falsch klassifiziert\"\n",
    "       % (XTest.shape[0],cm[0][0]+cm[1][1], cm[0][1]+cm[1][0]))"
   ]
  },
  {
   "cell_type": "markdown",
   "metadata": {},
   "source": [
    "The correct prediction of all lines indicates that the naive bayes algorithm is very suitable for our dataset."
   ]
  },
  {
   "cell_type": "code",
   "execution_count": null,
   "metadata": {},
   "outputs": [],
   "source": []
  }
 ],
 "metadata": {
  "kernelspec": {
   "display_name": "Python 3",
   "language": "python",
   "name": "python3"
  },
  "language_info": {
   "codemirror_mode": {
    "name": "ipython",
    "version": 3
   },
   "file_extension": ".py",
   "mimetype": "text/x-python",
   "name": "python",
   "nbconvert_exporter": "python",
   "pygments_lexer": "ipython3",
   "version": "3.7.6"
  }
 },
 "nbformat": 4,
 "nbformat_minor": 4
}
